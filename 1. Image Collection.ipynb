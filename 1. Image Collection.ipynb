{
 "cells": [
  {
   "cell_type": "markdown",
   "metadata": {},
   "source": [
    "# 1. Import Dependencies"
   ]
  },
  {
   "cell_type": "code",
   "execution_count": 1,
   "metadata": {},
   "outputs": [
    {
     "name": "stdout",
     "output_type": "stream",
     "text": [
      "Collecting opencv-python\n",
      "  Using cached opencv_python-4.5.1.48-cp37-cp37m-win_amd64.whl (34.9 MB)\n",
      "Collecting numpy>=1.14.5\n",
      "  Using cached numpy-1.20.2-cp37-cp37m-win_amd64.whl (13.6 MB)\n",
      "Installing collected packages: numpy, opencv-python\n",
      "Successfully installed numpy-1.20.2 opencv-python-4.5.1.48\n"
     ]
    }
   ],
   "source": [
    "!pip install opencv-python"
   ]
  },
  {
   "cell_type": "code",
   "execution_count": 1,
   "metadata": {},
   "outputs": [],
   "source": [
    "# Import opencv\n",
    "import cv2 \n",
    "\n",
    "# Import uuid\n",
    "import uuid\n",
    "\n",
    "# Import Operating System\n",
    "import os\n",
    "\n",
    "# Import time\n",
    "import time"
   ]
  },
  {
   "cell_type": "markdown",
   "metadata": {},
   "source": [
    "# 2. Define Images to Collect"
   ]
  },
  {
   "cell_type": "code",
   "execution_count": 5,
   "metadata": {},
   "outputs": [],
   "source": [
    "labels = ['hello']\n",
    "number_imgs = 20"
   ]
  },
  {
   "cell_type": "markdown",
   "metadata": {},
   "source": [
    "# 3. Setup Folders "
   ]
  },
  {
   "cell_type": "code",
   "execution_count": 6,
   "metadata": {},
   "outputs": [],
   "source": [
    "IMAGES_PATH = os.path.join('Tensorflow', 'workspace', 'images', 'collectedimages')"
   ]
  },
  {
   "cell_type": "code",
   "execution_count": 7,
   "metadata": {},
   "outputs": [],
   "source": [
    "if not os.path.exists(IMAGES_PATH):\n",
    "    if os.name == 'posix':\n",
    "        !mkdir -p {IMAGES_PATH}\n",
    "    if os.name == 'nt':\n",
    "         !mkdir {IMAGES_PATH}\n",
    "for label in labels:\n",
    "    path = os.path.join(IMAGES_PATH, label)\n",
    "    if not os.path.exists(path):\n",
    "        !mkdir {path}"
   ]
  },
  {
   "cell_type": "markdown",
   "metadata": {},
   "source": [
    "# 4. Capture Images"
   ]
  },
  {
   "cell_type": "code",
   "execution_count": 8,
   "metadata": {},
   "outputs": [
    {
     "name": "stdout",
     "output_type": "stream",
     "text": [
      "Collecting images for hello\n",
      "Collecting image 0\n",
      "Collecting image 1\n",
      "Collecting image 2\n",
      "Collecting image 3\n",
      "Collecting image 4\n",
      "Collecting image 5\n",
      "Collecting image 6\n",
      "Collecting image 7\n",
      "Collecting image 8\n",
      "Collecting image 9\n",
      "Collecting image 10\n",
      "Collecting image 11\n",
      "Collecting image 12\n",
      "Collecting image 13\n",
      "Collecting image 14\n",
      "Collecting image 15\n",
      "Collecting image 16\n",
      "Collecting image 17\n",
      "Collecting image 18\n",
      "Collecting image 19\n"
     ]
    }
   ],
   "source": [
    "for label in labels:\n",
    "    cap = cv2.VideoCapture(0)\n",
    "    print('Collecting images for {}'.format(label))\n",
    "    time.sleep(5)\n",
    "    for imgnum in range(number_imgs):\n",
    "        print('Collecting image {}'.format(imgnum))\n",
    "        ret, frame = cap.read()\n",
    "        imgname = os.path.join(IMAGES_PATH,label,label+'.'+'{}.jpg'.format(str(uuid.uuid1())))\n",
    "        cv2.imwrite(imgname, frame)\n",
    "        cv2.imshow('frame', frame)\n",
    "        time.sleep(2)\n",
    "\n",
    "        if cv2.waitKey(1) & 0xFF == ord('q'):\n",
    "            break\n",
    "cap.release()\n",
    "cv2.destroyAllWindows()"
   ]
  },
  {
   "cell_type": "markdown",
   "metadata": {},
   "source": [
    "# 5. Image Labelling"
   ]
  },
  {
   "cell_type": "code",
   "execution_count": 9,
   "metadata": {},
   "outputs": [
    {
     "name": "stdout",
     "output_type": "stream",
     "text": [
      "Collecting pyqt5\n",
      "  Using cached PyQt5-5.15.4-cp36.cp37.cp38.cp39-none-win_amd64.whl (6.8 MB)\n",
      "Requirement already satisfied: lxml in d:\\youtube\\23-03-2021 - od full course\\tfodcourse\\tfod\\lib\\site-packages\\lxml-4.6.3-py3.7-win-amd64.egg (4.6.3)\n",
      "Collecting PyQt5-sip<13,>=12.8\n",
      "  Using cached PyQt5_sip-12.8.1-cp37-cp37m-win_amd64.whl (62 kB)\n",
      "Collecting PyQt5-Qt5>=5.15\n",
      "  Using cached PyQt5_Qt5-5.15.2-py3-none-win_amd64.whl (50.1 MB)\n",
      "Installing collected packages: PyQt5-sip, PyQt5-Qt5, pyqt5\n",
      "Successfully installed PyQt5-Qt5-5.15.2 PyQt5-sip-12.8.1 pyqt5-5.15.4\n"
     ]
    }
   ],
   "source": [
    "!pip install --upgrade pyqt5 lxml"
   ]
  },
  {
   "cell_type": "code",
   "execution_count": 10,
   "metadata": {},
   "outputs": [],
   "source": [
    "LABELIMG_PATH = os.path.join('Tensorflow', 'labelimg')"
   ]
  },
  {
   "cell_type": "code",
   "execution_count": 11,
   "metadata": {},
   "outputs": [],
   "source": [
    "if not os.path.exists(LABELIMG_PATH):\n",
    "    !mkdir {LABELIMG_PATH}\n",
    "    !git clone https://github.com/tzutalin/labelImg {LABELIMG_PATH}"
   ]
  },
  {
   "cell_type": "code",
   "execution_count": 12,
   "metadata": {},
   "outputs": [],
   "source": [
    "if os.name == 'posix':\n",
    "    !make qt5py3\n",
    "if os.name =='nt':\n",
    "    !cd {LABELIMG_PATH} && pyrcc5 -o libs/resources.py resources.qrc"
   ]
  },
  {
   "cell_type": "code",
   "execution_count": 13,
   "metadata": {},
   "outputs": [
    {
     "name": "stdout",
     "output_type": "stream",
     "text": [
      "Image:D:\\YouTube\\23-03-2021 - OD Full Course\\TFODCourse\\Tensorflow\\workspace\\images\\collectedimages\\hello\\hello.1ee17ee6-928c-11eb-b184-5cf3709bbcc6.jpg -> Annotation:D:/YouTube/23-03-2021 - OD Full Course/TFODCourse/Tensorflow/workspace/images/collectedimages/hello/hello.1ee17ee6-928c-11eb-b184-5cf3709bbcc6.xml\n",
      "Image:D:\\YouTube\\23-03-2021 - OD Full Course\\TFODCourse\\Tensorflow\\workspace\\images\\collectedimages\\hello\\hello.2afc537e-928c-11eb-b413-5cf3709bbcc6.jpg -> Annotation:D:/YouTube/23-03-2021 - OD Full Course/TFODCourse/Tensorflow/workspace/images/collectedimages/hello/hello.2afc537e-928c-11eb-b413-5cf3709bbcc6.xml\n",
      "Image:D:\\YouTube\\23-03-2021 - OD Full Course\\TFODCourse\\Tensorflow\\workspace\\images\\collectedimages\\hello\\hello.2c31bf5e-928c-11eb-91ff-5cf3709bbcc6.jpg -> Annotation:D:/YouTube/23-03-2021 - OD Full Course/TFODCourse/Tensorflow/workspace/images/collectedimages/hello/hello.2c31bf5e-928c-11eb-91ff-5cf3709bbcc6.xml\n",
      "Image:D:\\YouTube\\23-03-2021 - OD Full Course\\TFODCourse\\Tensorflow\\workspace\\images\\collectedimages\\hello\\hello.2d663c2c-928c-11eb-831a-5cf3709bbcc6.jpg -> Annotation:D:/YouTube/23-03-2021 - OD Full Course/TFODCourse/Tensorflow/workspace/images/collectedimages/hello/hello.2d663c2c-928c-11eb-831a-5cf3709bbcc6.xml\n",
      "Image:D:\\YouTube\\23-03-2021 - OD Full Course\\TFODCourse\\Tensorflow\\workspace\\images\\collectedimages\\hello\\hello.2e9b63fa-928c-11eb-a622-5cf3709bbcc6.jpg -> Annotation:D:/YouTube/23-03-2021 - OD Full Course/TFODCourse/Tensorflow/workspace/images/collectedimages/hello/hello.2e9b63fa-928c-11eb-a622-5cf3709bbcc6.xml\n",
      "Image:D:\\YouTube\\23-03-2021 - OD Full Course\\TFODCourse\\Tensorflow\\workspace\\images\\collectedimages\\hello\\hello.2fd16352-928c-11eb-b362-5cf3709bbcc6.jpg -> Annotation:D:/YouTube/23-03-2021 - OD Full Course/TFODCourse/Tensorflow/workspace/images/collectedimages/hello/hello.2fd16352-928c-11eb-b362-5cf3709bbcc6.xml\n",
      "Image:D:\\YouTube\\23-03-2021 - OD Full Course\\TFODCourse\\Tensorflow\\workspace\\images\\collectedimages\\hello\\hello.23bfe9d0-928c-11eb-9a01-5cf3709bbcc6.jpg -> Annotation:D:/YouTube/23-03-2021 - OD Full Course/TFODCourse/Tensorflow/workspace/images/collectedimages/hello/hello.23bfe9d0-928c-11eb-9a01-5cf3709bbcc6.xml\n",
      "Image:D:\\YouTube\\23-03-2021 - OD Full Course\\TFODCourse\\Tensorflow\\workspace\\images\\collectedimages\\hello\\hello.24f4b808-928c-11eb-8dc0-5cf3709bbcc6.jpg -> Annotation:D:/YouTube/23-03-2021 - OD Full Course/TFODCourse/Tensorflow/workspace/images/collectedimages/hello/hello.24f4b808-928c-11eb-8dc0-5cf3709bbcc6.xml\n",
      "Image:D:\\YouTube\\23-03-2021 - OD Full Course\\TFODCourse\\Tensorflow\\workspace\\images\\collectedimages\\hello\\hello.29c9e054-928c-11eb-ad91-5cf3709bbcc6.jpg -> Annotation:D:/YouTube/23-03-2021 - OD Full Course/TFODCourse/Tensorflow/workspace/images/collectedimages/hello/hello.29c9e054-928c-11eb-ad91-5cf3709bbcc6.xml\n",
      "Image:D:\\YouTube\\23-03-2021 - OD Full Course\\TFODCourse\\Tensorflow\\workspace\\images\\collectedimages\\hello\\hello.34a84f48-928c-11eb-a28d-5cf3709bbcc6.jpg -> Annotation:D:/YouTube/23-03-2021 - OD Full Course/TFODCourse/Tensorflow/workspace/images/collectedimages/hello/hello.34a84f48-928c-11eb-a28d-5cf3709bbcc6.xml\n",
      "Image:D:\\YouTube\\23-03-2021 - OD Full Course\\TFODCourse\\Tensorflow\\workspace\\images\\collectedimages\\hello\\hello.35dd1514-928c-11eb-beba-5cf3709bbcc6.jpg -> Annotation:D:/YouTube/23-03-2021 - OD Full Course/TFODCourse/Tensorflow/workspace/images/collectedimages/hello/hello.35dd1514-928c-11eb-beba-5cf3709bbcc6.xml\n",
      "Image:D:\\YouTube\\23-03-2021 - OD Full Course\\TFODCourse\\Tensorflow\\workspace\\images\\collectedimages\\hello\\hello.228b2a2e-928c-11eb-8032-5cf3709bbcc6.jpg -> Annotation:D:/YouTube/23-03-2021 - OD Full Course/TFODCourse/Tensorflow/workspace/images/collectedimages/hello/hello.228b2a2e-928c-11eb-8032-5cf3709bbcc6.xml\n",
      "Image:D:\\YouTube\\23-03-2021 - OD Full Course\\TFODCourse\\Tensorflow\\workspace\\images\\collectedimages\\hello\\hello.275f1cb6-928c-11eb-9c49-5cf3709bbcc6.jpg -> Annotation:D:/YouTube/23-03-2021 - OD Full Course/TFODCourse/Tensorflow/workspace/images/collectedimages/hello/hello.275f1cb6-928c-11eb-9c49-5cf3709bbcc6.xml\n",
      "Image:D:\\YouTube\\23-03-2021 - OD Full Course\\TFODCourse\\Tensorflow\\workspace\\images\\collectedimages\\hello\\hello.323e6494-928c-11eb-8773-5cf3709bbcc6.jpg -> Annotation:D:/YouTube/23-03-2021 - OD Full Course/TFODCourse/Tensorflow/workspace/images/collectedimages/hello/hello.323e6494-928c-11eb-8773-5cf3709bbcc6.xml\n",
      "Image:D:\\YouTube\\23-03-2021 - OD Full Course\\TFODCourse\\Tensorflow\\workspace\\images\\collectedimages\\hello\\hello.2020ec9e-928c-11eb-97b0-5cf3709bbcc6.jpg -> Annotation:D:/YouTube/23-03-2021 - OD Full Course/TFODCourse/Tensorflow/workspace/images/collectedimages/hello/hello.2020ec9e-928c-11eb-97b0-5cf3709bbcc6.xml\n",
      "Image:D:\\YouTube\\23-03-2021 - OD Full Course\\TFODCourse\\Tensorflow\\workspace\\images\\collectedimages\\hello\\hello.3107c67a-928c-11eb-a538-5cf3709bbcc6.jpg -> Annotation:D:/YouTube/23-03-2021 - OD Full Course/TFODCourse/Tensorflow/workspace/images/collectedimages/hello/hello.3107c67a-928c-11eb-a538-5cf3709bbcc6.xml\n",
      "Image:D:\\YouTube\\23-03-2021 - OD Full Course\\TFODCourse\\Tensorflow\\workspace\\images\\collectedimages\\hello\\hello.3372ed2e-928c-11eb-98e5-5cf3709bbcc6.jpg -> Annotation:D:/YouTube/23-03-2021 - OD Full Course/TFODCourse/Tensorflow/workspace/images/collectedimages/hello/hello.3372ed2e-928c-11eb-98e5-5cf3709bbcc6.xml\n",
      "Image:D:\\YouTube\\23-03-2021 - OD Full Course\\TFODCourse\\Tensorflow\\workspace\\images\\collectedimages\\hello\\hello.21552bee-928c-11eb-b708-5cf3709bbcc6.jpg -> Annotation:D:/YouTube/23-03-2021 - OD Full Course/TFODCourse/Tensorflow/workspace/images/collectedimages/hello/hello.21552bee-928c-11eb-b708-5cf3709bbcc6.xml\n",
      "Image:D:\\YouTube\\23-03-2021 - OD Full Course\\TFODCourse\\Tensorflow\\workspace\\images\\collectedimages\\hello\\hello.28945a76-928c-11eb-81d5-5cf3709bbcc6.jpg -> Annotation:D:/YouTube/23-03-2021 - OD Full Course/TFODCourse/Tensorflow/workspace/images/collectedimages/hello/hello.28945a76-928c-11eb-81d5-5cf3709bbcc6.xml\n",
      "Image:D:\\YouTube\\23-03-2021 - OD Full Course\\TFODCourse\\Tensorflow\\workspace\\images\\collectedimages\\hello\\hello.26295970-928c-11eb-ab72-5cf3709bbcc6.jpg -> Annotation:D:/YouTube/23-03-2021 - OD Full Course/TFODCourse/Tensorflow/workspace/images/collectedimages/hello/hello.26295970-928c-11eb-ab72-5cf3709bbcc6.xml\n"
     ]
    }
   ],
   "source": [
    "!cd {LABELIMG_PATH} && python labelImg.py"
   ]
  },
  {
   "cell_type": "markdown",
   "metadata": {},
   "source": [
    "# 6. Move them into a Training and Testing Partition"
   ]
  },
  {
   "cell_type": "markdown",
   "metadata": {},
   "source": [
    "# OPTIONAL - 7. Compress them for Colab Training"
   ]
  },
  {
   "cell_type": "code",
   "execution_count": 12,
   "metadata": {},
   "outputs": [],
   "source": [
    "TRAIN_PATH = os.path.join('Tensorflow', 'workspace', 'images', 'train')\n",
    "TEST_PATH = os.path.join('Tensorflow', 'workspace', 'images', 'test')\n",
    "ARCHIVE_PATH = os.path.join('Tensorflow', 'workspace', 'images', 'archive.tar.gz')"
   ]
  },
  {
   "cell_type": "code",
   "execution_count": 13,
   "metadata": {},
   "outputs": [],
   "source": [
    "!tar -czf {ARCHIVE_PATH} {TRAIN_PATH} {TEST_PATH}"
   ]
  },
  {
   "cell_type": "code",
   "execution_count": null,
   "metadata": {},
   "outputs": [],
   "source": []
  }
 ],
 "metadata": {
  "kernelspec": {
   "display_name": "tfod",
   "language": "python",
   "name": "tfod"
  },
  "language_info": {
   "codemirror_mode": {
    "name": "ipython",
    "version": 3
   },
   "file_extension": ".py",
   "mimetype": "text/x-python",
   "name": "python",
   "nbconvert_exporter": "python",
   "pygments_lexer": "ipython3",
   "version": "3.7.3"
  }
 },
 "nbformat": 4,
 "nbformat_minor": 2
}
