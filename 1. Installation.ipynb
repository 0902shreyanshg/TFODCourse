{
 "cells": [
  {
   "cell_type": "markdown",
   "metadata": {},
   "source": [
    "1. LabelImg install\n",
    "2. Label Images\n",
    "3. Install Microsoft Visual Studio and C++ Build Tools\n",
    "4. Install CUDA and CUDNN for NVIDIA\n",
    "5. Install Protoc for Protocol Buffers from the official Github Repo\n",
    "6. Install Tensorflow Object Detection API for use with Python\n",
    "7. Force install TF=2.3.1 and TF-gpu==2.3.1"
   ]
  },
  {
   "cell_type": "code",
   "execution_count": null,
   "metadata": {},
   "outputs": [],
   "source": [
    "# 1. Install "
   ]
  },
  {
   "cell_type": "code",
   "execution_count": 4,
   "metadata": {},
   "outputs": [],
   "source": [
    "import os "
   ]
  },
  {
   "cell_type": "code",
   "execution_count": 5,
   "metadata": {},
   "outputs": [
    {
     "name": "stdout",
     "output_type": "stream",
     "text": [
      "Cloning into 'Tensorflow/labelimg'...\n",
      "remote: Enumerating objects: 1756, done.\u001b[K\n",
      "remote: Total 1756 (delta 0), reused 0 (delta 0), pack-reused 1756\u001b[K\n",
      "Receiving objects: 100% (1756/1756), 232.76 MiB | 6.78 MiB/s, done.\n",
      "Resolving deltas: 100% (1047/1047), done.\n"
     ]
    }
   ],
   "source": []
  },
  {
   "cell_type": "code",
   "execution_count": null,
   "metadata": {},
   "outputs": [],
   "source": [
    "if os.name == 'posix':\n",
    "    !pip install pyqt5 lxml\n",
    "if os.name. == 'nt':"
   ]
  }
 ],
 "metadata": {
  "kernelspec": {
   "display_name": "Python 3",
   "language": "python",
   "name": "python3"
  },
  "language_info": {
   "codemirror_mode": {
    "name": "ipython",
    "version": 3
   },
   "file_extension": ".py",
   "mimetype": "text/x-python",
   "name": "python",
   "nbconvert_exporter": "python",
   "pygments_lexer": "ipython3",
   "version": "3.7.4"
  }
 },
 "nbformat": 4,
 "nbformat_minor": 2
}
